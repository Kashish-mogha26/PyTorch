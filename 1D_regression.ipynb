{
  "nbformat": 4,
  "nbformat_minor": 0,
  "metadata": {
    "colab": {
      "name": "1D regression.ipynb",
      "provenance": [],
      "collapsed_sections": [],
      "include_colab_link": true
    },
    "kernelspec": {
      "name": "python3",
      "display_name": "Python 3"
    }
  },
  "cells": [
    {
      "cell_type": "markdown",
      "metadata": {
        "id": "view-in-github",
        "colab_type": "text"
      },
      "source": [
        "<a href=\"https://colab.research.google.com/github/Kashish-mogha26/PyTorch/blob/master/1D_regression.ipynb\" target=\"_parent\"><img src=\"https://colab.research.google.com/assets/colab-badge.svg\" alt=\"Open In Colab\"/></a>"
      ]
    },
    {
      "cell_type": "code",
      "metadata": {
        "id": "TkbcwywSbk4-",
        "colab_type": "code",
        "colab": {}
      },
      "source": [
        "import torch"
      ],
      "execution_count": 0,
      "outputs": []
    },
    {
      "cell_type": "code",
      "metadata": {
        "id": "Bo0SWW8IbwpK",
        "colab_type": "code",
        "colab": {}
      },
      "source": [
        "# Define w = 2 and b = -1 for y = wx + b\n",
        "w=torch.tensor(2.0,requires_grad=True)\n",
        "b=torch.tensor(-1.0,requires_grad=True)"
      ],
      "execution_count": 0,
      "outputs": []
    },
    {
      "cell_type": "code",
      "metadata": {
        "id": "NCsVEynRcPj5",
        "colab_type": "code",
        "colab": {}
      },
      "source": [
        "# Function forward(x) for prediction\n",
        "def forward(x):\n",
        "  y=w*x+b\n",
        "  return y"
      ],
      "execution_count": 0,
      "outputs": []
    },
    {
      "cell_type": "code",
      "metadata": {
        "id": "9O0K4D36cnPF",
        "colab_type": "code",
        "outputId": "03384ceb-ad81-4941-c207-4b9d08b4579a",
        "colab": {
          "base_uri": "https://localhost:8080/",
          "height": 34
        }
      },
      "source": [
        "# Predict y = 2x - 1 at x = 1\n",
        "x=torch.tensor([1.0])\n",
        "yhat=forward(x)\n",
        "print(\"The prediction:\",yhat)"
      ],
      "execution_count": 4,
      "outputs": [
        {
          "output_type": "stream",
          "text": [
            "The prediction: tensor([1.], grad_fn=<AddBackward0>)\n"
          ],
          "name": "stdout"
        }
      ]
    },
    {
      "cell_type": "code",
      "metadata": {
        "id": "r38iaR8QdbM7",
        "colab_type": "code",
        "outputId": "8415857b-07aa-45d3-d0f8-af4d5bf8cd64",
        "colab": {
          "base_uri": "https://localhost:8080/",
          "height": 34
        }
      },
      "source": [
        "#prediction for multiple inputs:\n",
        "x=torch.tensor([[1.0],[2.0]])\n",
        "print('The shape of x is:',x.shape)\n"
      ],
      "execution_count": 5,
      "outputs": [
        {
          "output_type": "stream",
          "text": [
            "The shape of x is: torch.Size([2, 1])\n"
          ],
          "name": "stdout"
        }
      ]
    },
    {
      "cell_type": "code",
      "metadata": {
        "id": "fGiKwL9Ud5Xl",
        "colab_type": "code",
        "outputId": "86f71062-b2e4-4ed7-a096-9cf386e87ac6",
        "colab": {
          "base_uri": "https://localhost:8080/",
          "height": 51
        }
      },
      "source": [
        "yhat=forward(x)\n",
        "print(\"The prediction:\",yhat)"
      ],
      "execution_count": 6,
      "outputs": [
        {
          "output_type": "stream",
          "text": [
            "The prediction: tensor([[1.],\n",
            "        [3.]], grad_fn=<AddBackward0>)\n"
          ],
          "name": "stdout"
        }
      ]
    },
    {
      "cell_type": "code",
      "metadata": {
        "id": "5FyXMrwJeCeA",
        "colab_type": "code",
        "outputId": "db54fecc-dce0-4a04-cdb6-3bbe764491b5",
        "colab": {
          "base_uri": "https://localhost:8080/",
          "height": 85
        }
      },
      "source": [
        "#LINEAR CLASS\n",
        "from torch.nn import Linear\n",
        "torch.manual_seed(1) #set random seed bcoz parameters are randomly initialized\n",
        "model=Linear(in_features=1,out_features=1)\n",
        "print(\"Parameters w and b: \", list(model.parameters()))\n",
        "x=torch.tensor([1.0])\n",
        "yhat=model(x)\n",
        "print('The prediction:',yhat)\n"
      ],
      "execution_count": 7,
      "outputs": [
        {
          "output_type": "stream",
          "text": [
            "Parameters w and b:  [Parameter containing:\n",
            "tensor([[0.5153]], requires_grad=True), Parameter containing:\n",
            "tensor([-0.4414], requires_grad=True)]\n",
            "The prediction: tensor([0.0739], grad_fn=<AddBackward0>)\n"
          ],
          "name": "stdout"
        }
      ]
    },
    {
      "cell_type": "code",
      "metadata": {
        "id": "UigZgVmso2Ag",
        "colab_type": "code",
        "colab": {}
      },
      "source": [
        "#CUSTOM MODULE\n",
        "from torch import nn"
      ],
      "execution_count": 0,
      "outputs": []
    },
    {
      "cell_type": "code",
      "metadata": {
        "id": "rg9oIriZpOCq",
        "colab_type": "code",
        "colab": {}
      },
      "source": [
        "#CUSTOMIZE LINEAR REGRESSION CLASS\n",
        "class LR(nn.Module):\n",
        "  #CONSTRUCTOR\n",
        "  def __init__(self,input_size,output_size):\n",
        "    super(LR,self).__init__()\n",
        "    self.linear=nn.Linear(input_size,output_size)\n",
        "  def forward(self,x):\n",
        "    out=self.linear(x)\n",
        "    return out"
      ],
      "execution_count": 0,
      "outputs": []
    },
    {
      "cell_type": "code",
      "metadata": {
        "id": "bcJPYy4Nqoha",
        "colab_type": "code",
        "outputId": "602fae10-047b-4651-a294-e9bdd3dc109c",
        "colab": {
          "base_uri": "https://localhost:8080/",
          "height": 85
        }
      },
      "source": [
        "# Create the linear regression model. Print out the parameters.\n",
        "\n",
        "model = LR(1, 1)\n",
        "print(\"The parameters: \", list(model.parameters()))\n",
        "print(\"Linear model: \", model.linear)"
      ],
      "execution_count": 0,
      "outputs": [
        {
          "output_type": "stream",
          "text": [
            "The parameters:  [Parameter containing:\n",
            "tensor([[-0.1939]], requires_grad=True), Parameter containing:\n",
            "tensor([0.4694], requires_grad=True)]\n",
            "Linear model:  Linear(in_features=1, out_features=1, bias=True)\n"
          ],
          "name": "stdout"
        }
      ]
    },
    {
      "cell_type": "code",
      "metadata": {
        "id": "99lx7Ut8r_s3",
        "colab_type": "code",
        "outputId": "8d019b65-7767-48f2-957d-10e4c6caf27c",
        "colab": {
          "base_uri": "https://localhost:8080/",
          "height": 51
        }
      },
      "source": [
        "x = torch.tensor([[1.0], [2.0]])\n",
        "yhat = model(x)\n",
        "print(\"The prediction: \", yhat)"
      ],
      "execution_count": 0,
      "outputs": [
        {
          "output_type": "stream",
          "text": [
            "The prediction:  tensor([[0.2755],\n",
            "        [0.0816]], grad_fn=<AddmmBackward>)\n"
          ],
          "name": "stdout"
        }
      ]
    }
  ]
}